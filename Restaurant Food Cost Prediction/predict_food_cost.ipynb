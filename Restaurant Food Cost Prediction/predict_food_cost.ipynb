{
 "cells": [
  {
   "cell_type": "code",
   "execution_count": 1,
   "metadata": {},
   "outputs": [],
   "source": [
    "import numpy as np\n",
    "import pandas as pd\n",
    "import matplotlib.pyplot as plt\n",
    "import seaborn as sns\n",
    "sns.set(style=\"ticks\", color_codes=True)\n",
    "from scipy.stats import norm, skew\n",
    "\n",
    "# Models\n",
    "from sklearn.model_selection import train_test_split\n",
    "from sklearn.linear_model import LinearRegression\n",
    "from sklearn.tree import DecisionTreeRegressor\n",
    "\n",
    "from sklearn.linear_model import ElasticNet, Lasso\n",
    "from sklearn.ensemble import RandomForestRegressor\n",
    "from sklearn.ensemble import GradientBoostingRegressor\n",
    "from sklearn.kernel_ridge import KernelRidge\n",
    "\n",
    "from sklearn.model_selection import GridSearchCV\n",
    "from sklearn.metrics import mean_squared_error\n",
    "import xlsxwriter"
   ]
  },
  {
   "cell_type": "code",
   "execution_count": 1417,
   "metadata": {},
   "outputs": [],
   "source": [
    "train = pd.read_excel('../Data_Train.xlsx')"
   ]
  },
  {
   "cell_type": "code",
   "execution_count": 1418,
   "metadata": {},
   "outputs": [
    {
     "data": {
      "text/plain": [
       "(12690, 9)"
      ]
     },
     "execution_count": 1418,
     "metadata": {},
     "output_type": "execute_result"
    }
   ],
   "source": [
    "train.shape"
   ]
  },
  {
   "cell_type": "code",
   "execution_count": 1419,
   "metadata": {},
   "outputs": [
    {
     "data": {
      "text/html": [
       "<div>\n",
       "<style scoped>\n",
       "    .dataframe tbody tr th:only-of-type {\n",
       "        vertical-align: middle;\n",
       "    }\n",
       "\n",
       "    .dataframe tbody tr th {\n",
       "        vertical-align: top;\n",
       "    }\n",
       "\n",
       "    .dataframe thead th {\n",
       "        text-align: right;\n",
       "    }\n",
       "</style>\n",
       "<table border=\"1\" class=\"dataframe\">\n",
       "  <thead>\n",
       "    <tr style=\"text-align: right;\">\n",
       "      <th></th>\n",
       "      <th>TITLE</th>\n",
       "      <th>RESTAURANT_ID</th>\n",
       "      <th>CUISINES</th>\n",
       "      <th>TIME</th>\n",
       "      <th>CITY</th>\n",
       "      <th>LOCALITY</th>\n",
       "      <th>RATING</th>\n",
       "      <th>VOTES</th>\n",
       "      <th>COST</th>\n",
       "    </tr>\n",
       "  </thead>\n",
       "  <tbody>\n",
       "    <tr>\n",
       "      <th>0</th>\n",
       "      <td>CASUAL DINING</td>\n",
       "      <td>9438</td>\n",
       "      <td>Malwani, Goan, North Indian</td>\n",
       "      <td>11am – 4pm, 7:30pm – 11:30pm (Mon-Sun)</td>\n",
       "      <td>Thane</td>\n",
       "      <td>Dombivali East</td>\n",
       "      <td>3.6</td>\n",
       "      <td>49 votes</td>\n",
       "      <td>1200</td>\n",
       "    </tr>\n",
       "    <tr>\n",
       "      <th>1</th>\n",
       "      <td>CASUAL DINING,BAR</td>\n",
       "      <td>13198</td>\n",
       "      <td>Asian, Modern Indian, Japanese</td>\n",
       "      <td>6pm – 11pm (Mon-Sun)</td>\n",
       "      <td>Chennai</td>\n",
       "      <td>Ramapuram</td>\n",
       "      <td>4.2</td>\n",
       "      <td>30 votes</td>\n",
       "      <td>1500</td>\n",
       "    </tr>\n",
       "    <tr>\n",
       "      <th>2</th>\n",
       "      <td>CASUAL DINING</td>\n",
       "      <td>10915</td>\n",
       "      <td>North Indian, Chinese, Biryani, Hyderabadi</td>\n",
       "      <td>11am – 3:30pm, 7pm – 11pm (Mon-Sun)</td>\n",
       "      <td>Chennai</td>\n",
       "      <td>Saligramam</td>\n",
       "      <td>3.8</td>\n",
       "      <td>221 votes</td>\n",
       "      <td>800</td>\n",
       "    </tr>\n",
       "    <tr>\n",
       "      <th>3</th>\n",
       "      <td>QUICK BITES</td>\n",
       "      <td>6346</td>\n",
       "      <td>Tibetan, Chinese</td>\n",
       "      <td>11:30am – 1am (Mon-Sun)</td>\n",
       "      <td>Mumbai</td>\n",
       "      <td>Bandra West</td>\n",
       "      <td>4.1</td>\n",
       "      <td>24 votes</td>\n",
       "      <td>800</td>\n",
       "    </tr>\n",
       "    <tr>\n",
       "      <th>4</th>\n",
       "      <td>DESSERT PARLOR</td>\n",
       "      <td>15387</td>\n",
       "      <td>Desserts</td>\n",
       "      <td>11am – 1am (Mon-Sun)</td>\n",
       "      <td>Mumbai</td>\n",
       "      <td>Lower Parel</td>\n",
       "      <td>3.8</td>\n",
       "      <td>165 votes</td>\n",
       "      <td>300</td>\n",
       "    </tr>\n",
       "  </tbody>\n",
       "</table>\n",
       "</div>"
      ],
      "text/plain": [
       "               TITLE  RESTAURANT_ID  \\\n",
       "0      CASUAL DINING           9438   \n",
       "1  CASUAL DINING,BAR          13198   \n",
       "2      CASUAL DINING          10915   \n",
       "3        QUICK BITES           6346   \n",
       "4     DESSERT PARLOR          15387   \n",
       "\n",
       "                                     CUISINES  \\\n",
       "0                 Malwani, Goan, North Indian   \n",
       "1              Asian, Modern Indian, Japanese   \n",
       "2  North Indian, Chinese, Biryani, Hyderabadi   \n",
       "3                            Tibetan, Chinese   \n",
       "4                                    Desserts   \n",
       "\n",
       "                                     TIME     CITY        LOCALITY RATING  \\\n",
       "0  11am – 4pm, 7:30pm – 11:30pm (Mon-Sun)    Thane  Dombivali East    3.6   \n",
       "1                    6pm – 11pm (Mon-Sun)  Chennai       Ramapuram    4.2   \n",
       "2     11am – 3:30pm, 7pm – 11pm (Mon-Sun)  Chennai      Saligramam    3.8   \n",
       "3                 11:30am – 1am (Mon-Sun)   Mumbai     Bandra West    4.1   \n",
       "4                    11am – 1am (Mon-Sun)   Mumbai     Lower Parel    3.8   \n",
       "\n",
       "       VOTES  COST  \n",
       "0   49 votes  1200  \n",
       "1   30 votes  1500  \n",
       "2  221 votes   800  \n",
       "3   24 votes   800  \n",
       "4  165 votes   300  "
      ]
     },
     "execution_count": 1419,
     "metadata": {},
     "output_type": "execute_result"
    }
   ],
   "source": [
    "train.head()"
   ]
  },
  {
   "cell_type": "code",
   "execution_count": 1420,
   "metadata": {},
   "outputs": [],
   "source": [
    "def missing_vals(dataset):\n",
    "    null_columns=dataset.columns[dataset.isnull().any()]\n",
    "    print(dataset[null_columns].isnull().sum())"
   ]
  },
  {
   "cell_type": "code",
   "execution_count": 1421,
   "metadata": {},
   "outputs": [
    {
     "name": "stdout",
     "output_type": "stream",
     "text": [
      "CITY         112\n",
      "LOCALITY      98\n",
      "RATING         2\n",
      "VOTES       1204\n",
      "dtype: int64\n"
     ]
    }
   ],
   "source": [
    "missing_vals(train)"
   ]
  },
  {
   "cell_type": "code",
   "execution_count": 1422,
   "metadata": {},
   "outputs": [],
   "source": [
    "train.drop(['RESTAURANT_ID', 'TIME'], axis=1, inplace=True)"
   ]
  },
  {
   "cell_type": "code",
   "execution_count": 1423,
   "metadata": {},
   "outputs": [
    {
     "data": {
      "image/png": "[encoded data removed]",
      "text/plain": [
       "<matplotlib.figure.Figure at 0x1d4988fed68>"
      ]
     },
     "metadata": {},
     "output_type": "display_data"
    }
   ],
   "source": [
    "# Check for skewness in target data\n",
    "sns.distplot(train['COST'] , fit=norm);\n",
    "\n",
    "# Target is highly skewed"
   ]
  },
  {
   "cell_type": "code",
   "execution_count": 1424,
   "metadata": {},
   "outputs": [],
   "source": [
    "# Correct the skewness in target\n",
    "train['LOG_COST'] = np.log10(train['COST'])"
   ]
  },
  {
   "cell_type": "code",
   "execution_count": 1425,
   "metadata": {},
   "outputs": [
    {
     "data": {
      "image/png": "[encoded data removed]",
      "text/plain": [
       "<matplotlib.figure.Figure at 0x1d499b4f4e0>"
      ]
     },
     "metadata": {},
     "output_type": "display_data"
    }
   ],
   "source": [
    "# Check for skewness in the log transformed column\n",
    "sns.distplot(train['LOG_COST'] , fit=norm);"
   ]
  },
  {
   "cell_type": "code",
   "execution_count": 1426,
   "metadata": {},
   "outputs": [],
   "source": [
    "# Drop the original COST column\n",
    "train.drop('COST', axis=1, inplace=True)"
   ]
  },
  {
   "cell_type": "code",
   "execution_count": 1427,
   "metadata": {},
   "outputs": [
    {
     "data": {
      "text/html": [
       "<div>\n",
       "<style scoped>\n",
       "    .dataframe tbody tr th:only-of-type {\n",
       "        vertical-align: middle;\n",
       "    }\n",
       "\n",
       "    .dataframe tbody tr th {\n",
       "        vertical-align: top;\n",
       "    }\n",
       "\n",
       "    .dataframe thead th {\n",
       "        text-align: right;\n",
       "    }\n",
       "</style>\n",
       "<table border=\"1\" class=\"dataframe\">\n",
       "  <thead>\n",
       "    <tr style=\"text-align: right;\">\n",
       "      <th></th>\n",
       "      <th>TITLE</th>\n",
       "      <th>CUISINES</th>\n",
       "      <th>CITY</th>\n",
       "      <th>LOCALITY</th>\n",
       "      <th>RATING</th>\n",
       "      <th>VOTES</th>\n",
       "      <th>LOG_COST</th>\n",
       "    </tr>\n",
       "  </thead>\n",
       "  <tbody>\n",
       "    <tr>\n",
       "      <th>0</th>\n",
       "      <td>CASUAL DINING</td>\n",
       "      <td>Malwani, Goan, North Indian</td>\n",
       "      <td>Thane</td>\n",
       "      <td>Dombivali East</td>\n",
       "      <td>3.6</td>\n",
       "      <td>49 votes</td>\n",
       "      <td>3.079181</td>\n",
       "    </tr>\n",
       "    <tr>\n",
       "      <th>1</th>\n",
       "      <td>CASUAL DINING,BAR</td>\n",
       "      <td>Asian, Modern Indian, Japanese</td>\n",
       "      <td>Chennai</td>\n",
       "      <td>Ramapuram</td>\n",
       "      <td>4.2</td>\n",
       "      <td>30 votes</td>\n",
       "      <td>3.176091</td>\n",
       "    </tr>\n",
       "    <tr>\n",
       "      <th>2</th>\n",
       "      <td>CASUAL DINING</td>\n",
       "      <td>North Indian, Chinese, Biryani, Hyderabadi</td>\n",
       "      <td>Chennai</td>\n",
       "      <td>Saligramam</td>\n",
       "      <td>3.8</td>\n",
       "      <td>221 votes</td>\n",
       "      <td>2.903090</td>\n",
       "    </tr>\n",
       "    <tr>\n",
       "      <th>3</th>\n",
       "      <td>QUICK BITES</td>\n",
       "      <td>Tibetan, Chinese</td>\n",
       "      <td>Mumbai</td>\n",
       "      <td>Bandra West</td>\n",
       "      <td>4.1</td>\n",
       "      <td>24 votes</td>\n",
       "      <td>2.903090</td>\n",
       "    </tr>\n",
       "    <tr>\n",
       "      <th>4</th>\n",
       "      <td>DESSERT PARLOR</td>\n",
       "      <td>Desserts</td>\n",
       "      <td>Mumbai</td>\n",
       "      <td>Lower Parel</td>\n",
       "      <td>3.8</td>\n",
       "      <td>165 votes</td>\n",
       "      <td>2.477121</td>\n",
       "    </tr>\n",
       "  </tbody>\n",
       "</table>\n",
       "</div>"
      ],
      "text/plain": [
       "               TITLE                                    CUISINES     CITY  \\\n",
       "0      CASUAL DINING                 Malwani, Goan, North Indian    Thane   \n",
       "1  CASUAL DINING,BAR              Asian, Modern Indian, Japanese  Chennai   \n",
       "2      CASUAL DINING  North Indian, Chinese, Biryani, Hyderabadi  Chennai   \n",
       "3        QUICK BITES                            Tibetan, Chinese   Mumbai   \n",
       "4     DESSERT PARLOR                                    Desserts   Mumbai   \n",
       "\n",
       "         LOCALITY RATING      VOTES  LOG_COST  \n",
       "0  Dombivali East    3.6   49 votes  3.079181  \n",
       "1       Ramapuram    4.2   30 votes  3.176091  \n",
       "2      Saligramam    3.8  221 votes  2.903090  \n",
       "3     Bandra West    4.1   24 votes  2.903090  \n",
       "4     Lower Parel    3.8  165 votes  2.477121  "
      ]
     },
     "execution_count": 1427,
     "metadata": {},
     "output_type": "execute_result"
    }
   ],
   "source": [
    "train.head()"
   ]
  },
  {
   "cell_type": "code",
   "execution_count": 1428,
   "metadata": {},
   "outputs": [],
   "source": [
    "############################################ EDA ############################################"
   ]
  },
  {
   "cell_type": "code",
   "execution_count": 1429,
   "metadata": {},
   "outputs": [],
   "source": [
    "## Column 1: TITLE"
   ]
  },
  {
   "cell_type": "code",
   "execution_count": 1430,
   "metadata": {},
   "outputs": [],
   "source": [
    "train.loc[(train['TITLE'] == 'None') & (train['CUISINES'].str.contains('Fast Food|Burger|Sandwich|Street Food') == True), 'TITLE'] = 'QUICK BITES'\n",
    "train.loc[(train['TITLE'] == 'None') & (train['CUISINES'] == 'Beverages'), 'TITLE'] = 'BEVERAGE SHOP'\n",
    "train.loc[(train['TITLE'] == 'None') & (train['CUISINES'] == 'Bakery'), 'TITLE'] = 'BAKERY'\n",
    "train.loc[train['TITLE'] == 'None', 'TITLE'] = 'UNKNOWN'"
   ]
  },
  {
   "cell_type": "code",
   "execution_count": 1431,
   "metadata": {},
   "outputs": [],
   "source": [
    "# Get all unique titles\n",
    "titles = train['TITLE'].unique()"
   ]
  },
  {
   "cell_type": "code",
   "execution_count": 1432,
   "metadata": {},
   "outputs": [],
   "source": [
    "# Retrieve each title present in every individual title which is comma seperated\n",
    "all_titles = [val for sublist in titles for val in sublist.split(',')] \n",
    "unique_titles = set(all_titles)"
   ]
  },
  {
   "cell_type": "code",
   "execution_count": 1433,
   "metadata": {},
   "outputs": [],
   "source": [
    "train['FOOD_PLACE'] = 0\n",
    "train['FOOD_PLACE'] =  train['TITLE'].apply(lambda x: 1 if x.find('FINE DINING') != -1 or\n",
    "                                            x.find('CASUAL DINING') != -1 or\n",
    "                                            x.find('FOOD COURT') != -1 or\n",
    "                                            x.find('FOOD TRUCK') != -1 or\n",
    "                                            x.find('QUICK BITES') != -1 or\n",
    "                                            x.find('DHABA') != -1 or\n",
    "                                            x.find('MESS') != -1 or\n",
    "                                            x.find('UNKNOWN') != -1\n",
    "                                            else 0\n",
    "                                           )"
   ]
  },
  {
   "cell_type": "code",
   "execution_count": 1434,
   "metadata": {},
   "outputs": [],
   "source": [
    "train['PARTY_PLACE'] = 0\n",
    "train['PARTY_PLACE'] =  train['TITLE'].apply(lambda x: 1 if x.find('CLUB') != -1 or\n",
    "                                            x.find('PUB') != -1 or\n",
    "                                            x.find('LOUNGE') != -1\n",
    "                                            else 0\n",
    "                                           )"
   ]
  },
  {
   "cell_type": "code",
   "execution_count": 1435,
   "metadata": {},
   "outputs": [],
   "source": [
    "train['DRINKS_PLACE'] = 0\n",
    "train['DRINKS_PLACE'] =  train['TITLE'].apply(lambda x: 1 if x.find('MICROBREWERY') != -1 or\n",
    "                                            x.find('COCKTAIL BAR') != -1 or\n",
    "                                            x.find('BAR') != -1\n",
    "                                            else 0\n",
    "                                           )"
   ]
  },
  {
   "cell_type": "code",
   "execution_count": 1436,
   "metadata": {},
   "outputs": [],
   "source": [
    "train['IS_SHOP'] = 0\n",
    "train['IS_SHOP'] =  train['TITLE'].apply(lambda x: 1 if x.find('SHOP') != -1 else 0)"
   ]
  },
  {
   "cell_type": "code",
   "execution_count": 1437,
   "metadata": {},
   "outputs": [],
   "source": [
    "train['BAKERY_CAFE'] = 0\n",
    "train['BAKERY_CAFE'] =  train['TITLE'].apply(lambda x: 1 if x.find('BAKERY') != -1 or\n",
    "                                            x.find('CAF') != -1 or\n",
    "                                            x.find('DESSERT') != -1 or\n",
    "                                            x.find('CONFECTION') != -1\n",
    "                                            else 0\n",
    "                                           )"
   ]
  },
  {
   "cell_type": "code",
   "execution_count": 1438,
   "metadata": {},
   "outputs": [],
   "source": [
    "train['FOOD_DRINKS_PARTY'] = 999\n",
    "train['FOOD_DRINKS_PARTY'] = train['FOOD_PLACE'] + train['PARTY_PLACE'] + train['DRINKS_PLACE']"
   ]
  },
  {
   "cell_type": "code",
   "execution_count": 1439,
   "metadata": {},
   "outputs": [],
   "source": [
    "train['DINING_RANK'] = 999\n",
    "train['DINING_RANK'] = train['TITLE'].apply(lambda x: 1 if x.find('FINE DINING') != -1 \n",
    "                                            else (2 if x.find('CASUAL DINING') != -1 \n",
    "                                            else (3 if x.find('FOOD COURT') != -1 \n",
    "                                            else (4 if x.find('QUICK BITES') != -1 \n",
    "                                            else (5 if x.find('FOOD TRUCK') != -1                                             \n",
    "                                            else (6 if x.find('DHABA') != -1\n",
    "                                            else (7 if x.find('MESS') != -1\n",
    "                                            else 999\n",
    "                                            )))))))"
   ]
  },
  {
   "cell_type": "code",
   "execution_count": 1440,
   "metadata": {},
   "outputs": [
    {
     "data": {
      "text/html": [
       "<div>\n",
       "<style scoped>\n",
       "    .dataframe tbody tr th:only-of-type {\n",
       "        vertical-align: middle;\n",
       "    }\n",
       "\n",
       "    .dataframe tbody tr th {\n",
       "        vertical-align: top;\n",
       "    }\n",
       "\n",
       "    .dataframe thead th {\n",
       "        text-align: right;\n",
       "    }\n",
       "</style>\n",
       "<table border=\"1\" class=\"dataframe\">\n",
       "  <thead>\n",
       "    <tr style=\"text-align: right;\">\n",
       "      <th></th>\n",
       "      <th>TITLE</th>\n",
       "      <th>CUISINES</th>\n",
       "      <th>CITY</th>\n",
       "      <th>LOCALITY</th>\n",
       "      <th>RATING</th>\n",
       "      <th>VOTES</th>\n",
       "      <th>LOG_COST</th>\n",
       "      <th>FOOD_PLACE</th>\n",
       "      <th>PARTY_PLACE</th>\n",
       "      <th>DRINKS_PLACE</th>\n",
       "      <th>IS_SHOP</th>\n",
       "      <th>BAKERY_CAFE</th>\n",
       "      <th>FOOD_DRINKS_PARTY</th>\n",
       "      <th>DINING_RANK</th>\n",
       "    </tr>\n",
       "  </thead>\n",
       "  <tbody>\n",
       "    <tr>\n",
       "      <th>0</th>\n",
       "      <td>CASUAL DINING</td>\n",
       "      <td>Malwani, Goan, North Indian</td>\n",
       "      <td>Thane</td>\n",
       "      <td>Dombivali East</td>\n",
       "      <td>3.6</td>\n",
       "      <td>49 votes</td>\n",
       "      <td>3.079181</td>\n",
       "      <td>1</td>\n",
       "      <td>0</td>\n",
       "      <td>0</td>\n",
       "      <td>0</td>\n",
       "      <td>0</td>\n",
       "      <td>1</td>\n",
       "      <td>2</td>\n",
       "    </tr>\n",
       "    <tr>\n",
       "      <th>1</th>\n",
       "      <td>CASUAL DINING,BAR</td>\n",
       "      <td>Asian, Modern Indian, Japanese</td>\n",
       "      <td>Chennai</td>\n",
       "      <td>Ramapuram</td>\n",
       "      <td>4.2</td>\n",
       "      <td>30 votes</td>\n",
       "      <td>3.176091</td>\n",
       "      <td>1</td>\n",
       "      <td>0</td>\n",
       "      <td>1</td>\n",
       "      <td>0</td>\n",
       "      <td>0</td>\n",
       "      <td>2</td>\n",
       "      <td>2</td>\n",
       "    </tr>\n",
       "    <tr>\n",
       "      <th>2</th>\n",
       "      <td>CASUAL DINING</td>\n",
       "      <td>North Indian, Chinese, Biryani, Hyderabadi</td>\n",
       "      <td>Chennai</td>\n",
       "      <td>Saligramam</td>\n",
       "      <td>3.8</td>\n",
       "      <td>221 votes</td>\n",
       "      <td>2.903090</td>\n",
       "      <td>1</td>\n",
       "      <td>0</td>\n",
       "      <td>0</td>\n",
       "      <td>0</td>\n",
       "      <td>0</td>\n",
       "      <td>1</td>\n",
       "      <td>2</td>\n",
       "    </tr>\n",
       "    <tr>\n",
       "      <th>3</th>\n",
       "      <td>QUICK BITES</td>\n",
       "      <td>Tibetan, Chinese</td>\n",
       "      <td>Mumbai</td>\n",
       "      <td>Bandra West</td>\n",
       "      <td>4.1</td>\n",
       "      <td>24 votes</td>\n",
       "      <td>2.903090</td>\n",
       "      <td>1</td>\n",
       "      <td>0</td>\n",
       "      <td>0</td>\n",
       "      <td>0</td>\n",
       "      <td>0</td>\n",
       "      <td>1</td>\n",
       "      <td>4</td>\n",
       "    </tr>\n",
       "    <tr>\n",
       "      <th>4</th>\n",
       "      <td>DESSERT PARLOR</td>\n",
       "      <td>Desserts</td>\n",
       "      <td>Mumbai</td>\n",
       "      <td>Lower Parel</td>\n",
       "      <td>3.8</td>\n",
       "      <td>165 votes</td>\n",
       "      <td>2.477121</td>\n",
       "      <td>0</td>\n",
       "      <td>0</td>\n",
       "      <td>0</td>\n",
       "      <td>0</td>\n",
       "      <td>1</td>\n",
       "      <td>0</td>\n",
       "      <td>999</td>\n",
       "    </tr>\n",
       "  </tbody>\n",
       "</table>\n",
       "</div>"
      ],
      "text/plain": [
       "               TITLE                                    CUISINES     CITY  \\\n",
       "0      CASUAL DINING                 Malwani, Goan, North Indian    Thane   \n",
       "1  CASUAL DINING,BAR              Asian, Modern Indian, Japanese  Chennai   \n",
       "2      CASUAL DINING  North Indian, Chinese, Biryani, Hyderabadi  Chennai   \n",
       "3        QUICK BITES                            Tibetan, Chinese   Mumbai   \n",
       "4     DESSERT PARLOR                                    Desserts   Mumbai   \n",
       "\n",
       "         LOCALITY RATING      VOTES  LOG_COST  FOOD_PLACE  PARTY_PLACE  \\\n",
       "0  Dombivali East    3.6   49 votes  3.079181           1            0   \n",
       "1       Ramapuram    4.2   30 votes  3.176091           1            0   \n",
       "2      Saligramam    3.8  221 votes  2.903090           1            0   \n",
       "3     Bandra West    4.1   24 votes  2.903090           1            0   \n",
       "4     Lower Parel    3.8  165 votes  2.477121           0            0   \n",
       "\n",
       "   DRINKS_PLACE  IS_SHOP  BAKERY_CAFE  FOOD_DRINKS_PARTY  DINING_RANK  \n",
       "0             0        0            0                  1            2  \n",
       "1             1        0            0                  2            2  \n",
       "2             0        0            0                  1            2  \n",
       "3             0        0            0                  1            4  \n",
       "4             0        0            1                  0          999  "
      ]
     },
     "execution_count": 1440,
     "metadata": {},
     "output_type": "execute_result"
    }
   ],
   "source": [
    "train.head()"
   ]
  },
  {
   "cell_type": "code",
   "execution_count": 1441,
   "metadata": {},
   "outputs": [],
   "source": [
    "## Column 2: CUISINES"
   ]
  },
  {
   "cell_type": "code",
   "execution_count": 1442,
   "metadata": {},
   "outputs": [],
   "source": [
    "# Get all unique cuisines\n",
    "cuisines = train['CUISINES'].unique()"
   ]
  },
  {
   "cell_type": "code",
   "execution_count": 1443,
   "metadata": {},
   "outputs": [],
   "source": [
    "all_cuisines = [val.strip(' ') for sublist in cuisines for val in sublist.split(',')] \n",
    "unique_cuisines = set(all_cuisines)"
   ]
  },
  {
   "cell_type": "code",
   "execution_count": 1444,
   "metadata": {},
   "outputs": [],
   "source": [
    "unique_cuisines.remove('')"
   ]
  },
  {
   "cell_type": "code",
   "execution_count": 1445,
   "metadata": {},
   "outputs": [],
   "source": [
    "for cuisine in unique_cuisines:\n",
    "    new_col = 'CUISINE_' + cuisine\n",
    "    train[new_col] = 0\n",
    "    train[new_col] = train['CUISINES'].apply(lambda x: 0 if x.find(cuisine) == -1 else 1)"
   ]
  },
  {
   "cell_type": "code",
   "execution_count": 1446,
   "metadata": {},
   "outputs": [],
   "source": [
    "train['CUISINE_MULTI'] = train['CUISINES'].apply(lambda x: 0 if x.find(',') == -1 else 1)"
   ]
  },
  {
   "cell_type": "code",
   "execution_count": 1447,
   "metadata": {},
   "outputs": [
    {
     "data": {
      "text/html": [
       "<div>\n",
       "<style scoped>\n",
       "    .dataframe tbody tr th:only-of-type {\n",
       "        vertical-align: middle;\n",
       "    }\n",
       "\n",
       "    .dataframe tbody tr th {\n",
       "        vertical-align: top;\n",
       "    }\n",
       "\n",
       "    .dataframe thead th {\n",
       "        text-align: right;\n",
       "    }\n",
       "</style>\n",
       "<table border=\"1\" class=\"dataframe\">\n",
       "  <thead>\n",
       "    <tr style=\"text-align: right;\">\n",
       "      <th></th>\n",
       "      <th>TITLE</th>\n",
       "      <th>CUISINES</th>\n",
       "      <th>CITY</th>\n",
       "      <th>LOCALITY</th>\n",
       "      <th>RATING</th>\n",
       "      <th>VOTES</th>\n",
       "      <th>LOG_COST</th>\n",
       "      <th>FOOD_PLACE</th>\n",
       "      <th>PARTY_PLACE</th>\n",
       "      <th>DRINKS_PLACE</th>\n",
       "      <th>...</th>\n",
       "      <th>CUISINE_Raw Meats</th>\n",
       "      <th>CUISINE_Fusion</th>\n",
       "      <th>CUISINE_Kashmiri</th>\n",
       "      <th>CUISINE_Mexican</th>\n",
       "      <th>CUISINE_Spanish</th>\n",
       "      <th>CUISINE_Tex-Mex</th>\n",
       "      <th>CUISINE_French</th>\n",
       "      <th>CUISINE_Peruvian</th>\n",
       "      <th>CUISINE_Asian</th>\n",
       "      <th>CUISINE_MULTI</th>\n",
       "    </tr>\n",
       "  </thead>\n",
       "  <tbody>\n",
       "    <tr>\n",
       "      <th>0</th>\n",
       "      <td>CASUAL DINING</td>\n",
       "      <td>Malwani, Goan, North Indian</td>\n",
       "      <td>Thane</td>\n",
       "      <td>Dombivali East</td>\n",
       "      <td>3.6</td>\n",
       "      <td>49 votes</td>\n",
       "      <td>3.079181</td>\n",
       "      <td>1</td>\n",
       "      <td>0</td>\n",
       "      <td>0</td>\n",
       "      <td>...</td>\n",
       "      <td>0</td>\n",
       "      <td>0</td>\n",
       "      <td>0</td>\n",
       "      <td>0</td>\n",
       "      <td>0</td>\n",
       "      <td>0</td>\n",
       "      <td>0</td>\n",
       "      <td>0</td>\n",
       "      <td>0</td>\n",
       "      <td>1</td>\n",
       "    </tr>\n",
       "    <tr>\n",
       "      <th>1</th>\n",
       "      <td>CASUAL DINING,BAR</td>\n",
       "      <td>Asian, Modern Indian, Japanese</td>\n",
       "      <td>Chennai</td>\n",
       "      <td>Ramapuram</td>\n",
       "      <td>4.2</td>\n",
       "      <td>30 votes</td>\n",
       "      <td>3.176091</td>\n",
       "      <td>1</td>\n",
       "      <td>0</td>\n",
       "      <td>1</td>\n",
       "      <td>...</td>\n",
       "      <td>0</td>\n",
       "      <td>0</td>\n",
       "      <td>0</td>\n",
       "      <td>0</td>\n",
       "      <td>0</td>\n",
       "      <td>0</td>\n",
       "      <td>0</td>\n",
       "      <td>0</td>\n",
       "      <td>1</td>\n",
       "      <td>1</td>\n",
       "    </tr>\n",
       "    <tr>\n",
       "      <th>2</th>\n",
       "      <td>CASUAL DINING</td>\n",
       "      <td>North Indian, Chinese, Biryani, Hyderabadi</td>\n",
       "      <td>Chennai</td>\n",
       "      <td>Saligramam</td>\n",
       "      <td>3.8</td>\n",
       "      <td>221 votes</td>\n",
       "      <td>2.903090</td>\n",
       "      <td>1</td>\n",
       "      <td>0</td>\n",
       "      <td>0</td>\n",
       "      <td>...</td>\n",
       "      <td>0</td>\n",
       "      <td>0</td>\n",
       "      <td>0</td>\n",
       "      <td>0</td>\n",
       "      <td>0</td>\n",
       "      <td>0</td>\n",
       "      <td>0</td>\n",
       "      <td>0</td>\n",
       "      <td>0</td>\n",
       "      <td>1</td>\n",
       "    </tr>\n",
       "    <tr>\n",
       "      <th>3</th>\n",
       "      <td>QUICK BITES</td>\n",
       "      <td>Tibetan, Chinese</td>\n",
       "      <td>Mumbai</td>\n",
       "      <td>Bandra West</td>\n",
       "      <td>4.1</td>\n",
       "      <td>24 votes</td>\n",
       "      <td>2.903090</td>\n",
       "      <td>1</td>\n",
       "      <td>0</td>\n",
       "      <td>0</td>\n",
       "      <td>...</td>\n",
       "      <td>0</td>\n",
       "      <td>0</td>\n",
       "      <td>0</td>\n",
       "      <td>0</td>\n",
       "      <td>0</td>\n",
       "      <td>0</td>\n",
       "      <td>0</td>\n",
       "      <td>0</td>\n",
       "      <td>0</td>\n",
       "      <td>1</td>\n",
       "    </tr>\n",
       "    <tr>\n",
       "      <th>4</th>\n",
       "      <td>DESSERT PARLOR</td>\n",
       "      <td>Desserts</td>\n",
       "      <td>Mumbai</td>\n",
       "      <td>Lower Parel</td>\n",
       "      <td>3.8</td>\n",
       "      <td>165 votes</td>\n",
       "      <td>2.477121</td>\n",
       "      <td>0</td>\n",
       "      <td>0</td>\n",
       "      <td>0</td>\n",
       "      <td>...</td>\n",
       "      <td>0</td>\n",
       "      <td>0</td>\n",
       "      <td>0</td>\n",
       "      <td>0</td>\n",
       "      <td>0</td>\n",
       "      <td>0</td>\n",
       "      <td>0</td>\n",
       "      <td>0</td>\n",
       "      <td>0</td>\n",
       "      <td>0</td>\n",
       "    </tr>\n",
       "  </tbody>\n",
       "</table>\n",
       "<p>5 rows × 139 columns</p>\n",
       "</div>"
      ],
      "text/plain": [
       "               TITLE                                    CUISINES     CITY  \\\n",
       "0      CASUAL DINING                 Malwani, Goan, North Indian    Thane   \n",
       "1  CASUAL DINING,BAR              Asian, Modern Indian, Japanese  Chennai   \n",
       "2      CASUAL DINING  North Indian, Chinese, Biryani, Hyderabadi  Chennai   \n",
       "3        QUICK BITES                            Tibetan, Chinese   Mumbai   \n",
       "4     DESSERT PARLOR                                    Desserts   Mumbai   \n",
       "\n",
       "         LOCALITY RATING      VOTES  LOG_COST  FOOD_PLACE  PARTY_PLACE  \\\n",
       "0  Dombivali East    3.6   49 votes  3.079181           1            0   \n",
       "1       Ramapuram    4.2   30 votes  3.176091           1            0   \n",
       "2      Saligramam    3.8  221 votes  2.903090           1            0   \n",
       "3     Bandra West    4.1   24 votes  2.903090           1            0   \n",
       "4     Lower Parel    3.8  165 votes  2.477121           0            0   \n",
       "\n",
       "   DRINKS_PLACE      ...        CUISINE_Raw Meats  CUISINE_Fusion  \\\n",
       "0             0      ...                        0               0   \n",
       "1             1      ...                        0               0   \n",
       "2             0      ...                        0               0   \n",
       "3             0      ...                        0               0   \n",
       "4             0      ...                        0               0   \n",
       "\n",
       "   CUISINE_Kashmiri  CUISINE_Mexican  CUISINE_Spanish  CUISINE_Tex-Mex  \\\n",
       "0                 0                0                0                0   \n",
       "1                 0                0                0                0   \n",
       "2                 0                0                0                0   \n",
       "3                 0                0                0                0   \n",
       "4                 0                0                0                0   \n",
       "\n",
       "   CUISINE_French  CUISINE_Peruvian  CUISINE_Asian  CUISINE_MULTI  \n",
       "0               0                 0              0              1  \n",
       "1               0                 0              1              1  \n",
       "2               0                 0              0              1  \n",
       "3               0                 0              0              1  \n",
       "4               0                 0              0              0  \n",
       "\n",
       "[5 rows x 139 columns]"
      ]
     },
     "execution_count": 1447,
     "metadata": {},
     "output_type": "execute_result"
    }
   ],
   "source": [
    "train.head()"
   ]
  },
  {
   "cell_type": "code",
   "execution_count": 1448,
   "metadata": {},
   "outputs": [],
   "source": [
    "## Column 3: RATING"
   ]
  },
  {
   "cell_type": "code",
   "execution_count": 1449,
   "metadata": {},
   "outputs": [],
   "source": [
    "# Create a subset of train with records having not null values for RATING\n",
    "sub = train[pd.notnull(train['RATING'])]"
   ]
  },
  {
   "cell_type": "code",
   "execution_count": 1450,
   "metadata": {},
   "outputs": [
    {
     "data": {
      "image/png": "[encoded data removed]",
      "text/plain": [
       "<matplotlib.figure.Figure at 0x1d493123a20>"
      ]
     },
     "metadata": {},
     "output_type": "display_data"
    }
   ],
   "source": [
    "plt.figure(figsize=(15,7))\n",
    "plt.scatter(sub['RATING'], sub['LOG_COST'])\n",
    "plt.show()"
   ]
  },
  {
   "cell_type": "code",
   "execution_count": 1453,
   "metadata": {},
   "outputs": [
    {
     "data": {
      "text/plain": [
       "3.8"
      ]
     },
     "execution_count": 1453,
     "metadata": {},
     "output_type": "execute_result"
    }
   ],
   "source": [
    "sub_rating = sub[(sub['RATING'] != '-') & (sub['RATING'] != 'NEW')]\n",
    "rating_median = sub_rating['RATING'].median()\n",
    "rating_median"
   ]
  },
  {
   "cell_type": "code",
   "execution_count": 1454,
   "metadata": {},
   "outputs": [],
   "source": [
    "# Drop records with RATING = NaN\n",
    "#train = train[pd.notnull(train['RATING'])]\n",
    "train['RATING'] = train['RATING'].fillna(rating_median)"
   ]
  },
  {
   "cell_type": "code",
   "execution_count": 1455,
   "metadata": {},
   "outputs": [],
   "source": [
    "# Add a new column, 'IS_NEW' if the restaurant is new\n",
    "train['IS_NEW'] = 0\n",
    "train.loc[train['RATING'] == 'NEW', 'IS_NEW'] = 1\n",
    "train.loc[train['RATING'] == 'NEW', 'VOTES'] = 0"
   ]
  },
  {
   "cell_type": "code",
   "execution_count": 1456,
   "metadata": {},
   "outputs": [],
   "source": [
    "train['NOT_RATED'] = 0\n",
    "train.loc[train['RATING'] == '-', 'NOT_RATED'] = 1\n",
    "train.loc[train['RATING'] == '-', 'VOTES'] = 0"
   ]
  },
  {
   "cell_type": "code",
   "execution_count": 1457,
   "metadata": {},
   "outputs": [],
   "source": [
    "train['RATING'] = train['RATING'].apply(lambda x: rating_median if x == 'NEW' else x)\n",
    "train['RATING'] = train['RATING'].apply(lambda x: rating_median if x == '-' else x)"
   ]
  },
  {
   "cell_type": "code",
   "execution_count": 1458,
   "metadata": {},
   "outputs": [
    {
     "data": {
      "image/png": "[encoded data removed]",
      "text/plain": [
       "<matplotlib.figure.Figure at 0x1d49987dcf8>"
      ]
     },
     "metadata": {},
     "output_type": "display_data"
    }
   ],
   "source": [
    "plt.figure(figsize=(15,7))\n",
    "plt.scatter(train['RATING'], train['LOG_COST'])\n",
    "plt.show()"
   ]
  },
  {
   "cell_type": "code",
   "execution_count": 1462,
   "metadata": {},
   "outputs": [],
   "source": [
    "train['RATING'] = train['RATING'].astype(float)"
   ]
  },
  {
   "cell_type": "code",
   "execution_count": 1463,
   "metadata": {},
   "outputs": [],
   "source": [
    "bins = [1, 2, 3, 4, 5]\n",
    "labels = ['RT_1_to_2', 'RT_2_to_3', 'RT_3_to_4', 'RT_4_to_5']\n",
    "train['RATING_BINNED'] = pd.cut(train['RATING'], bins=bins, labels=labels)\n",
    "\n",
    "#bins=[1, 1.5, 2, 2.5, 3, 3.5, 4, 4.5, 5]\n",
    "#labels = ['RT_1_1.5', 'RT_1.5_2', 'RT_2_2.5', 'RT_2.5_3', 'RT_3_3.5', 'RT_3.5_4', 'RT_4_4.5', 'RT_4.5_5']\n",
    "#train['RATING_BINNED'] = pd.cut(train['RATING'], bins=bins, labels=labels)\n",
    "\n",
    "#percentiles = [0, .25, .5, .75, 1]\n",
    "#labels  = ['RT_1st_quart', 'RT_2nd_quart', 'RT_3rd_quart', 'RT_4th_quart']\n",
    "#train['RATING_BINNED'] = pd.qcut(train['RATING'], percentiles, labels=labels)"
   ]
  },
  {
   "cell_type": "code",
   "execution_count": 1464,
   "metadata": {},
   "outputs": [
    {
     "data": {
      "text/plain": [
       "[RT_3_to_4, RT_4_to_5, RT_2_to_3, RT_1_to_2]\n",
       "Categories (4, object): [RT_1_to_2 < RT_2_to_3 < RT_3_to_4 < RT_4_to_5]"
      ]
     },
     "execution_count": 1464,
     "metadata": {},
     "output_type": "execute_result"
    }
   ],
   "source": [
    "train['RATING_BINNED'].unique()"
   ]
  },
  {
   "cell_type": "code",
   "execution_count": 1465,
   "metadata": {},
   "outputs": [],
   "source": [
    "## Column 4: CITY"
   ]
  },
  {
   "cell_type": "code",
   "execution_count": 1466,
   "metadata": {},
   "outputs": [],
   "source": [
    "train['CITY'] = train['CITY'].str.replace('Bengaluru','Bangalore')\n",
    "train['CITY'] = train['CITY'].str.replace('Bengalore','Bangalore')\n",
    "train['CITY'] = train['CITY'].str.replace('India','Unknown')"
   ]
  },
  {
   "cell_type": "code",
   "execution_count": 1467,
   "metadata": {},
   "outputs": [],
   "source": [
    "train['CITY'] = train['CITY'].fillna('Unknown')"
   ]
  },
  {
   "cell_type": "code",
   "execution_count": 1468,
   "metadata": {},
   "outputs": [
    {
     "data": {
      "text/plain": [
       "['Bangalore',\n",
       " 'Chennai',\n",
       " 'Hyderabad',\n",
       " 'Mumbai',\n",
       " 'New Delhi',\n",
       " 'Kochi',\n",
       " 'Gurgaon',\n",
       " 'Secunderabad',\n",
       " 'Noida',\n",
       " 'Navi Mumbai',\n",
       " 'Unknown',\n",
       " 'Ghaziabad',\n",
       " 'Thane',\n",
       " 'Faridabad',\n",
       " 'Bandra West',\n",
       " 'Thane West',\n",
       " 'Andheri West',\n",
       " 'Greater Noida',\n",
       " 'Kakkanad',\n",
       " 'Ernakulam',\n",
       " 'Kerala',\n",
       " 'Dwarka',\n",
       " 'Delhi NCR',\n",
       " 'Delhi',\n",
       " 'Telangana',\n",
       " 'Edappally',\n",
       " 'Hyderabad.',\n",
       " 'Gurugram']"
      ]
     },
     "execution_count": 1468,
     "metadata": {},
     "output_type": "execute_result"
    }
   ],
   "source": [
    "df = train.groupby('CITY').size().reset_index(name='count')\n",
    "df = df.sort_values('count', ascending=False)\n",
    "cities = df[df['count']> 6]['CITY']\n",
    "cities = list(cities)\n",
    "cities"
   ]
  },
  {
   "cell_type": "code",
   "execution_count": 1469,
   "metadata": {},
   "outputs": [],
   "source": [
    "train['CITY'] = train['CITY'].astype(str)"
   ]
  },
  {
   "cell_type": "code",
   "execution_count": 1470,
   "metadata": {},
   "outputs": [],
   "source": [
    "train['CITY'] = train['CITY'].apply(lambda x: x if x in cities else 'Other')"
   ]
  },
  {
   "cell_type": "code",
   "execution_count": 1471,
   "metadata": {},
   "outputs": [],
   "source": [
    "cities.append('Other')"
   ]
  },
  {
   "cell_type": "code",
   "execution_count": 1472,
   "metadata": {},
   "outputs": [],
   "source": [
    "for city in cities:\n",
    "    new_col = 'CITY_' + city\n",
    "    train[new_col] = 0\n",
    "    train[new_col] = train['CITY'].apply(lambda x: 0 if x.find(city) == -1 else 1)"
   ]
  },
  {
   "cell_type": "code",
   "execution_count": 1473,
   "metadata": {},
   "outputs": [],
   "source": [
    "train['IS_TIER_1'] = 0\n",
    "train['IS_TIER_1'] = train['CITY'].apply(lambda x: 1 if (x.find('Bangalore') != -1 or\n",
    "                                         x.find('Chennai') != -1 or\n",
    "                                         x.find('Delhi') != -1 or\n",
    "                                         x.find('Hyderabad') != -1 or\n",
    "                                         x.find('Mumbai') != -1 or\n",
    "                                         x.find('Kolkata') != -1)\n",
    "                                         else 0\n",
    "                                        )                                        "
   ]
  },
  {
   "cell_type": "code",
   "execution_count": 1474,
   "metadata": {},
   "outputs": [
    {
     "data": {
      "image/png": "[encoded data removed]",
      "text/plain": [
       "<matplotlib.figure.Figure at 0x1d49a6869b0>"
      ]
     },
     "metadata": {},
     "output_type": "display_data"
    }
   ],
   "source": [
    "plt.figure(figsize=(15,7))\n",
    "plt.scatter(train['CITY'], train['LOG_COST'])\n",
    "plt.xticks(rotation=70)\n",
    "plt.show()"
   ]
  },
  {
   "cell_type": "code",
   "execution_count": 1475,
   "metadata": {},
   "outputs": [],
   "source": [
    "## Column 6: LOCALITY"
   ]
  },
  {
   "cell_type": "code",
   "execution_count": 1476,
   "metadata": {},
   "outputs": [
    {
     "data": {
      "text/plain": [
       "['Gachibowli',\n",
       " 'Indiranagar',\n",
       " 'Edappally',\n",
       " 'Kakkanad',\n",
       " 'HSR',\n",
       " 'Kukatpally',\n",
       " 'Madhapur',\n",
       " 'Marathahalli',\n",
       " 'Jubilee Hills',\n",
       " 'Banjara Hills',\n",
       " 'Whitefield',\n",
       " 'Fort Kochi',\n",
       " 'BTM',\n",
       " 'Unknown',\n",
       " 'Jayanagar',\n",
       " 'Nungambakkam',\n",
       " 'MG Road',\n",
       " 'T. Nagar',\n",
       " 'Kaloor',\n",
       " 'Andheri West',\n",
       " 'Kondapur',\n",
       " 'JP Nagar',\n",
       " 'Borivali West',\n",
       " 'Anna Nagar East',\n",
       " 'Koramangala 5th Block',\n",
       " 'Connaught Place',\n",
       " 'Electronic City',\n",
       " 'Thane West',\n",
       " 'Velachery',\n",
       " 'Malad West',\n",
       " 'Lower Parel',\n",
       " 'Hitech City',\n",
       " 'Mira Road',\n",
       " 'Vyttila',\n",
       " 'Rohini',\n",
       " 'Adyar',\n",
       " 'Powai',\n",
       " 'Bandra West',\n",
       " 'Anna Nagar West',\n",
       " 'Juhu',\n",
       " 'Kilpauk',\n",
       " 'Palarivattom']"
      ]
     },
     "execution_count": 1476,
     "metadata": {},
     "output_type": "execute_result"
    }
   ],
   "source": [
    "train['LOCALITY'] = train['LOCALITY'].fillna('Unknown')\n",
    "\n",
    "df = train.groupby('LOCALITY').size().reset_index(name='count')\n",
    "df = df.sort_values('count', ascending=False)\n",
    "localities = df[df['count']> 50]['LOCALITY']\n",
    "localities = list(localities)\n",
    "localities"
   ]
  },
  {
   "cell_type": "code",
   "execution_count": 1477,
   "metadata": {},
   "outputs": [],
   "source": [
    "train['LOCALITY'] = train['LOCALITY'].astype(str)\n",
    "train['LOCALITY'] = train['LOCALITY'].apply(lambda x: x if x in localities else 'Other')\n",
    "localities.append('Other')"
   ]
  },
  {
   "cell_type": "code",
   "execution_count": 1478,
   "metadata": {},
   "outputs": [],
   "source": [
    "for each in localities:\n",
    "    new_col = 'LOCALITY_' + each\n",
    "    train[new_col] = 0\n",
    "    train[new_col] = train['LOCALITY'].apply(lambda x: 0 if x.find(each) == -1 else 1)"
   ]
  },
  {
   "cell_type": "code",
   "execution_count": 1479,
   "metadata": {},
   "outputs": [],
   "source": [
    "## Column 5: VOTES"
   ]
  },
  {
   "cell_type": "code",
   "execution_count": 1480,
   "metadata": {},
   "outputs": [],
   "source": [
    "train['VOTES'] = train['VOTES'].str.replace(' votes', '')"
   ]
  },
  {
   "cell_type": "code",
   "execution_count": 1481,
   "metadata": {},
   "outputs": [
    {
     "data": {
      "text/plain": [
       "163.0"
      ]
     },
     "execution_count": 1481,
     "metadata": {},
     "output_type": "execute_result"
    }
   ],
   "source": [
    "votes_median = train['VOTES'].median()\n",
    "votes_median"
   ]
  },
  {
   "cell_type": "code",
   "execution_count": 1482,
   "metadata": {},
   "outputs": [],
   "source": [
    "train['VOTES'] = train['VOTES'].fillna(votes_median)\n",
    "train['VOTES'] = train['VOTES'].astype(int)"
   ]
  },
  {
   "cell_type": "code",
   "execution_count": 1483,
   "metadata": {},
   "outputs": [
    {
     "data": {
      "text/plain": [
       "41186"
      ]
     },
     "execution_count": 1483,
     "metadata": {},
     "output_type": "execute_result"
    }
   ],
   "source": [
    "train['VOTES'].max()"
   ]
  },
  {
   "cell_type": "code",
   "execution_count": 1484,
   "metadata": {},
   "outputs": [
    {
     "data": {
      "text/plain": [
       "<matplotlib.collections.PathCollection at 0x1d499b54048>"
      ]
     },
     "execution_count": 1484,
     "metadata": {},
     "output_type": "execute_result"
    },
    {
     "data": {
      "image/png": "[encoded data removed]",
      "text/plain": [
       "<matplotlib.figure.Figure at 0x1d49a623d68>"
      ]
     },
     "metadata": {},
     "output_type": "display_data"
    }
   ],
   "source": [
    "plt.scatter(train['VOTES'], train['LOG_COST'])\n",
    "# Outlier found"
   ]
  },
  {
   "cell_type": "code",
   "execution_count": 1485,
   "metadata": {},
   "outputs": [],
   "source": [
    "# Remove outlier\n",
    "train = train[train.VOTES < 40000]"
   ]
  },
  {
   "cell_type": "code",
   "execution_count": 1486,
   "metadata": {},
   "outputs": [
    {
     "name": "stderr",
     "output_type": "stream",
     "text": [
      "c:\\python36\\lib\\site-packages\\ipykernel_launcher.py:4: SettingWithCopyWarning: \n",
      "A value is trying to be set on a copy of a slice from a DataFrame.\n",
      "Try using .loc[row_indexer,col_indexer] = value instead\n",
      "\n",
      "See the caveats in the documentation: http://pandas.pydata.org/pandas-docs/stable/indexing.html#indexing-view-versus-copy\n",
      "  after removing the cwd from sys.path.\n"
     ]
    }
   ],
   "source": [
    "# Binning VOTES column\n",
    "percentiles = [0, .25, .5, .75, 1]\n",
    "labels  = ['VOTES_1st_quart', 'VOTES_2nd_quart', 'VOTES_3rd_quart', 'VOTES_4th_quart']\n",
    "train['VOTES_BINNED'] = pd.qcut(train['VOTES'], percentiles, labels=labels)\n",
    "\n",
    "#bins = [1, 2000, 4000, 6000, 8000, 10000, 12000, 14000, 20000]\n",
    "#labels=['VT1', 'VT2', 'VT3', 'VT4', 'VT5', 'VT6', 'VT7', 'VT8']\n",
    "#train['VOTES_BINNED'] = pd.cut(train['VOTES'], bins=bins, labels=labels)"
   ]
  },
  {
   "cell_type": "code",
   "execution_count": 1487,
   "metadata": {},
   "outputs": [],
   "source": [
    "# Dummies\n",
    "X_dummies1 = pd.get_dummies(train['VOTES_BINNED'])\n",
    "X_dummies2 = pd.get_dummies(train['RATING_BINNED'])"
   ]
  },
  {
   "cell_type": "code",
   "execution_count": 1488,
   "metadata": {},
   "outputs": [],
   "source": [
    "train = pd.concat([train,X_dummies1], axis=1)\n",
    "train = pd.concat([train,X_dummies2], axis=1)"
   ]
  },
  {
   "cell_type": "code",
   "execution_count": 1489,
   "metadata": {},
   "outputs": [],
   "source": [
    "train.drop('TITLE', axis=1, inplace=True)\n",
    "train.drop('CUISINES', axis=1, inplace=True)\n",
    "train.drop('RATING', axis=1, inplace=True)\n",
    "train.drop('CITY', axis=1, inplace=True)\n",
    "train.drop('LOCALITY', axis=1, inplace=True)\n",
    "train.drop('VOTES', axis=1, inplace=True)\n",
    "train.drop(['VOTES_BINNED'], axis=1, inplace=True)\n",
    "train.drop(['RATING_BINNED'], axis=1, inplace=True)"
   ]
  },
  {
   "cell_type": "code",
   "execution_count": 1490,
   "metadata": {},
   "outputs": [],
   "source": [
    "y = train['LOG_COST'].values\n",
    "X = train.drop(['LOG_COST'], axis=1)"
   ]
  },
  {
   "cell_type": "code",
   "execution_count": 1491,
   "metadata": {},
   "outputs": [
    {
     "data": {
      "text/html": [
       "<div>\n",
       "<style scoped>\n",
       "    .dataframe tbody tr th:only-of-type {\n",
       "        vertical-align: middle;\n",
       "    }\n",
       "\n",
       "    .dataframe tbody tr th {\n",
       "        vertical-align: top;\n",
       "    }\n",
       "\n",
       "    .dataframe thead th {\n",
       "        text-align: right;\n",
       "    }\n",
       "</style>\n",
       "<table border=\"1\" class=\"dataframe\">\n",
       "  <thead>\n",
       "    <tr style=\"text-align: right;\">\n",
       "      <th></th>\n",
       "      <th>FOOD_PLACE</th>\n",
       "      <th>PARTY_PLACE</th>\n",
       "      <th>DRINKS_PLACE</th>\n",
       "      <th>IS_SHOP</th>\n",
       "      <th>BAKERY_CAFE</th>\n",
       "      <th>FOOD_DRINKS_PARTY</th>\n",
       "      <th>DINING_RANK</th>\n",
       "      <th>CUISINE_Jewish</th>\n",
       "      <th>CUISINE_BBQ</th>\n",
       "      <th>CUISINE_Nepalese</th>\n",
       "      <th>...</th>\n",
       "      <th>LOCALITY_Palarivattom</th>\n",
       "      <th>LOCALITY_Other</th>\n",
       "      <th>VOTES_1st_quart</th>\n",
       "      <th>VOTES_2nd_quart</th>\n",
       "      <th>VOTES_3rd_quart</th>\n",
       "      <th>VOTES_4th_quart</th>\n",
       "      <th>RT_1_to_2</th>\n",
       "      <th>RT_2_to_3</th>\n",
       "      <th>RT_3_to_4</th>\n",
       "      <th>RT_4_to_5</th>\n",
       "    </tr>\n",
       "  </thead>\n",
       "  <tbody>\n",
       "    <tr>\n",
       "      <th>0</th>\n",
       "      <td>1</td>\n",
       "      <td>0</td>\n",
       "      <td>0</td>\n",
       "      <td>0</td>\n",
       "      <td>0</td>\n",
       "      <td>1</td>\n",
       "      <td>2</td>\n",
       "      <td>0</td>\n",
       "      <td>0</td>\n",
       "      <td>0</td>\n",
       "      <td>...</td>\n",
       "      <td>0</td>\n",
       "      <td>1</td>\n",
       "      <td>1</td>\n",
       "      <td>0</td>\n",
       "      <td>0</td>\n",
       "      <td>0</td>\n",
       "      <td>0</td>\n",
       "      <td>0</td>\n",
       "      <td>1</td>\n",
       "      <td>0</td>\n",
       "    </tr>\n",
       "    <tr>\n",
       "      <th>1</th>\n",
       "      <td>1</td>\n",
       "      <td>0</td>\n",
       "      <td>1</td>\n",
       "      <td>0</td>\n",
       "      <td>0</td>\n",
       "      <td>2</td>\n",
       "      <td>2</td>\n",
       "      <td>0</td>\n",
       "      <td>0</td>\n",
       "      <td>0</td>\n",
       "      <td>...</td>\n",
       "      <td>0</td>\n",
       "      <td>1</td>\n",
       "      <td>1</td>\n",
       "      <td>0</td>\n",
       "      <td>0</td>\n",
       "      <td>0</td>\n",
       "      <td>0</td>\n",
       "      <td>0</td>\n",
       "      <td>0</td>\n",
       "      <td>1</td>\n",
       "    </tr>\n",
       "    <tr>\n",
       "      <th>2</th>\n",
       "      <td>1</td>\n",
       "      <td>0</td>\n",
       "      <td>0</td>\n",
       "      <td>0</td>\n",
       "      <td>0</td>\n",
       "      <td>1</td>\n",
       "      <td>2</td>\n",
       "      <td>0</td>\n",
       "      <td>0</td>\n",
       "      <td>0</td>\n",
       "      <td>...</td>\n",
       "      <td>0</td>\n",
       "      <td>1</td>\n",
       "      <td>0</td>\n",
       "      <td>0</td>\n",
       "      <td>1</td>\n",
       "      <td>0</td>\n",
       "      <td>0</td>\n",
       "      <td>0</td>\n",
       "      <td>1</td>\n",
       "      <td>0</td>\n",
       "    </tr>\n",
       "    <tr>\n",
       "      <th>3</th>\n",
       "      <td>1</td>\n",
       "      <td>0</td>\n",
       "      <td>0</td>\n",
       "      <td>0</td>\n",
       "      <td>0</td>\n",
       "      <td>1</td>\n",
       "      <td>4</td>\n",
       "      <td>0</td>\n",
       "      <td>0</td>\n",
       "      <td>0</td>\n",
       "      <td>...</td>\n",
       "      <td>0</td>\n",
       "      <td>0</td>\n",
       "      <td>1</td>\n",
       "      <td>0</td>\n",
       "      <td>0</td>\n",
       "      <td>0</td>\n",
       "      <td>0</td>\n",
       "      <td>0</td>\n",
       "      <td>0</td>\n",
       "      <td>1</td>\n",
       "    </tr>\n",
       "    <tr>\n",
       "      <th>4</th>\n",
       "      <td>0</td>\n",
       "      <td>0</td>\n",
       "      <td>0</td>\n",
       "      <td>0</td>\n",
       "      <td>1</td>\n",
       "      <td>0</td>\n",
       "      <td>999</td>\n",
       "      <td>0</td>\n",
       "      <td>0</td>\n",
       "      <td>0</td>\n",
       "      <td>...</td>\n",
       "      <td>0</td>\n",
       "      <td>0</td>\n",
       "      <td>0</td>\n",
       "      <td>0</td>\n",
       "      <td>1</td>\n",
       "      <td>0</td>\n",
       "      <td>0</td>\n",
       "      <td>0</td>\n",
       "      <td>1</td>\n",
       "      <td>0</td>\n",
       "    </tr>\n",
       "  </tbody>\n",
       "</table>\n",
       "<p>5 rows × 215 columns</p>\n",
       "</div>"
      ],
      "text/plain": [
       "   FOOD_PLACE  PARTY_PLACE  DRINKS_PLACE  IS_SHOP  BAKERY_CAFE  \\\n",
       "0           1            0             0        0            0   \n",
       "1           1            0             1        0            0   \n",
       "2           1            0             0        0            0   \n",
       "3           1            0             0        0            0   \n",
       "4           0            0             0        0            1   \n",
       "\n",
       "   FOOD_DRINKS_PARTY  DINING_RANK  CUISINE_Jewish  CUISINE_BBQ  \\\n",
       "0                  1            2               0            0   \n",
       "1                  2            2               0            0   \n",
       "2                  1            2               0            0   \n",
       "3                  1            4               0            0   \n",
       "4                  0          999               0            0   \n",
       "\n",
       "   CUISINE_Nepalese    ...      LOCALITY_Palarivattom  LOCALITY_Other  \\\n",
       "0                 0    ...                          0               1   \n",
       "1                 0    ...                          0               1   \n",
       "2                 0    ...                          0               1   \n",
       "3                 0    ...                          0               0   \n",
       "4                 0    ...                          0               0   \n",
       "\n",
       "   VOTES_1st_quart  VOTES_2nd_quart  VOTES_3rd_quart  VOTES_4th_quart  \\\n",
       "0                1                0                0                0   \n",
       "1                1                0                0                0   \n",
       "2                0                0                1                0   \n",
       "3                1                0                0                0   \n",
       "4                0                0                1                0   \n",
       "\n",
       "   RT_1_to_2  RT_2_to_3  RT_3_to_4  RT_4_to_5  \n",
       "0          0          0          1          0  \n",
       "1          0          0          0          1  \n",
       "2          0          0          1          0  \n",
       "3          0          0          0          1  \n",
       "4          0          0          1          0  \n",
       "\n",
       "[5 rows x 215 columns]"
      ]
     },
     "execution_count": 1491,
     "metadata": {},
     "output_type": "execute_result"
    }
   ],
   "source": [
    "X.head()"
   ]
  },
  {
   "cell_type": "code",
   "execution_count": 1492,
   "metadata": {},
   "outputs": [],
   "source": [
    "X_train, X_test, y_train, y_test = train_test_split(X, y, test_size=0.3, random_state=111)"
   ]
  },
  {
   "cell_type": "code",
   "execution_count": 1493,
   "metadata": {},
   "outputs": [
    {
     "data": {
      "text/plain": [
       "'\\nfrom sklearn.preprocessing import StandardScaler\\n\\nsc = StandardScaler()\\nX_train = sc.fit_transform(X_train)\\nX_test = sc.transform(X_test)\\n'"
      ]
     },
     "execution_count": 1493,
     "metadata": {},
     "output_type": "execute_result"
    }
   ],
   "source": [
    "'''\n",
    "from sklearn.preprocessing import StandardScaler\n",
    "\n",
    "sc = StandardScaler()\n",
    "X_train = sc.fit_transform(X_train)\n",
    "X_test = sc.transform(X_test)\n",
    "'''"
   ]
  },
  {
   "cell_type": "code",
   "execution_count": 1494,
   "metadata": {},
   "outputs": [],
   "source": [
    "######## Modelling\n",
    "\n",
    "clf = LinearRegression()\n",
    "clf.fit(X_train, y_train)\n",
    "y_pred_lr = clf.predict(X_test)"
   ]
  },
  {
   "cell_type": "code",
   "execution_count": 1495,
   "metadata": {},
   "outputs": [
    {
     "name": "stdout",
     "output_type": "stream",
     "text": [
      "4517728.385481343\n",
      "-4517727.385481343\n"
     ]
    }
   ],
   "source": [
    "# Compute the rmse: rmse\n",
    "rmse_lr = np.sqrt(mean_squared_error(y_test, y_pred_lr))\n",
    "print(rmse_lr)\n",
    "print(1-rmse_lr)"
   ]
  },
  {
   "cell_type": "code",
   "execution_count": 1496,
   "metadata": {},
   "outputs": [],
   "source": [
    "dt = DecisionTreeRegressor()\n",
    "dt.fit(X_train, y_train)\n",
    "y_pred_dt = dt.predict(X_test)"
   ]
  },
  {
   "cell_type": "code",
   "execution_count": 1497,
   "metadata": {},
   "outputs": [
    {
     "name": "stdout",
     "output_type": "stream",
     "text": [
      "0.20758551925108096\n",
      "0.7924144807489191\n"
     ]
    }
   ],
   "source": [
    "# Compute the rmse: rmse\n",
    "rmse_dt = np.sqrt(mean_squared_error(y_test, y_pred_dt))\n",
    "print(rmse_dt)\n",
    "print(1-rmse_dt)"
   ]
  },
  {
   "cell_type": "code",
   "execution_count": 1498,
   "metadata": {},
   "outputs": [],
   "source": [
    "rf = RandomForestRegressor(n_estimators=100)\n",
    "rf.fit(X_train, y_train)\n",
    "y_pred_rf = rf.predict(X_test)"
   ]
  },
  {
   "cell_type": "code",
   "execution_count": 1500,
   "metadata": {},
   "outputs": [
    {
     "name": "stdout",
     "output_type": "stream",
     "text": [
      "0.16628056529596458\n",
      "0.8337194347040354\n"
     ]
    }
   ],
   "source": [
    "# Compute the rmse: rmse\n",
    "rmse_rf = np.sqrt(mean_squared_error(y_test, y_pred_rf))\n",
    "print(rmse_rf)\n",
    "print(1-rmse_rf)"
   ]
  },
  {
   "cell_type": "code",
   "execution_count": 1501,
   "metadata": {},
   "outputs": [],
   "source": [
    "gb = GradientBoostingRegressor(n_estimators=3000, learning_rate=0.01,\n",
    "                                   max_depth=10, max_features='sqrt',\n",
    "                                   min_samples_leaf=15, min_samples_split=10, \n",
    "                                   loss='huber', random_state =5)\n",
    "gb.fit(X_train, y_train)\n",
    "y_pred_gb = gb.predict(X_test)"
   ]
  },
  {
   "cell_type": "code",
   "execution_count": 1502,
   "metadata": {},
   "outputs": [
    {
     "name": "stdout",
     "output_type": "stream",
     "text": [
      "0.1534109325071776\n",
      "0.8465890674928224\n"
     ]
    }
   ],
   "source": [
    "# Compute the rmse: rmse\n",
    "rmse_gb = np.sqrt(mean_squared_error(y_test, y_pred_gb))\n",
    "print(rmse_gb)\n",
    "print(1-rmse_gb)"
   ]
  },
  {
   "cell_type": "code",
   "execution_count": 1503,
   "metadata": {},
   "outputs": [
    {
     "data": {
      "text/plain": [
       "\"\\nfrom sklearn.ensemble import ExtraTreesRegressor\\n\\netr = ExtraTreesRegressor(n_estimators=3000,\\n                                   criterion='mse',\\n                                   max_features='sqrt',\\n                                   max_depth=10,\\n                                   min_samples_split=10,\\n                                   min_samples_leaf=15,\\n                                   random_state=5)\\netr.fit(X_train, y_train)\\ny_pred_etr = etr.predict(X_test)\\n\\n# Compute the rmse: rmse\\nrmse_etr = np.sqrt(mean_squared_error(y_test, y_pred_etr))\\nprint(rmse_etr)\\nprint(1-rmse_etr)\\n\""
      ]
     },
     "execution_count": 1503,
     "metadata": {},
     "output_type": "execute_result"
    }
   ],
   "source": [
    "'''\n",
    "from sklearn.ensemble import ExtraTreesRegressor\n",
    "\n",
    "etr = ExtraTreesRegressor(n_estimators=3000,\n",
    "                                   criterion='mse',\n",
    "                                   max_features='sqrt',\n",
    "                                   max_depth=10,\n",
    "                                   min_samples_split=10,\n",
    "                                   min_samples_leaf=15,\n",
    "                                   random_state=5)\n",
    "etr.fit(X_train, y_train)\n",
    "y_pred_etr = etr.predict(X_test)\n",
    "\n",
    "# Compute the rmse: rmse\n",
    "rmse_etr = np.sqrt(mean_squared_error(y_test, y_pred_etr))\n",
    "print(rmse_etr)\n",
    "print(1-rmse_etr)\n",
    "'''"
   ]
  },
  {
   "cell_type": "code",
   "execution_count": 1504,
   "metadata": {},
   "outputs": [
    {
     "data": {
      "text/plain": [
       "'\\nfrom xgboost import XGBRegressor\\n\\nxgb = XGBRegressor(n_estimators=1000, max_depth=10, eta=0.01)\\nxgb.fit(X_train, y_train)\\ny_pred_xgb = xgb.predict(X_test)\\n\\n# Compute the rmse: rmse\\nrmse_xgb = np.sqrt(mean_squared_error(y_test, y_pred_xgb))\\nprint(rmse_xgb)\\nprint(1-rmse_xgb)\\n'"
      ]
     },
     "execution_count": 1504,
     "metadata": {},
     "output_type": "execute_result"
    }
   ],
   "source": [
    "'''\n",
    "from xgboost import XGBRegressor\n",
    "\n",
    "xgb = XGBRegressor(n_estimators=1000, max_depth=10, eta=0.01)\n",
    "xgb.fit(X_train, y_train)\n",
    "y_pred_xgb = xgb.predict(X_test)\n",
    "\n",
    "# Compute the rmse: rmse\n",
    "rmse_xgb = np.sqrt(mean_squared_error(y_test, y_pred_xgb))\n",
    "print(rmse_xgb)\n",
    "print(1-rmse_xgb)\n",
    "'''"
   ]
  },
  {
   "cell_type": "code",
   "execution_count": 1505,
   "metadata": {},
   "outputs": [
    {
     "data": {
      "text/plain": [
       "'\\nfrom mlxtend.regressor import StackingCVRegressor\\nfrom xgboost import XGBRegressor\\n\\nxgbr = XGBRegressor()\\nrf = RandomForestRegressor(n_estimators=100, random_state=1)\\nlr = LinearRegression()\\n\\nstack = StackingCVRegressor(regressors=(xgbr ,rf, lr),meta_regressor= xgbr)\\nstack.fit(X_train, y_train)\\n\\ny_pred_stack = stack.predict(X_test)\\n\\n# Compute the rmse: rmse\\nrmse_stack = np.sqrt(mean_squared_error(y_test, y_pred_stack))\\nprint(rmse_stack)\\nprint(1-rmse_stack)\\n\\n'"
      ]
     },
     "execution_count": 1505,
     "metadata": {},
     "output_type": "execute_result"
    }
   ],
   "source": [
    "'''\n",
    "from mlxtend.regressor import StackingCVRegressor\n",
    "from xgboost import XGBRegressor\n",
    "\n",
    "xgbr = XGBRegressor()\n",
    "rf = RandomForestRegressor(n_estimators=100, random_state=1)\n",
    "lr = LinearRegression()\n",
    "\n",
    "stack = StackingCVRegressor(regressors=(xgbr ,rf, lr),meta_regressor= xgbr)\n",
    "stack.fit(X_train, y_train)\n",
    "\n",
    "y_pred_stack = stack.predict(X_test)\n",
    "\n",
    "# Compute the rmse: rmse\n",
    "rmse_stack = np.sqrt(mean_squared_error(y_test, y_pred_stack))\n",
    "print(rmse_stack)\n",
    "print(1-rmse_stack)\n",
    "\n",
    "'''"
   ]
  },
  {
   "cell_type": "code",
   "execution_count": 1506,
   "metadata": {},
   "outputs": [],
   "source": [
    "########### Loading test data"
   ]
  },
  {
   "cell_type": "code",
   "execution_count": 1507,
   "metadata": {},
   "outputs": [],
   "source": [
    "test = pd.read_excel('C:/Users/hianj/Desktop/DataCamp Learnings/Machine Hack/Restaurant_Food_Cost/data/Data_Test.xlsx')"
   ]
  },
  {
   "cell_type": "code",
   "execution_count": 1508,
   "metadata": {},
   "outputs": [],
   "source": [
    "test.drop(['RESTAURANT_ID', 'TIME'], axis=1, inplace=True)"
   ]
  },
  {
   "cell_type": "code",
   "execution_count": 1509,
   "metadata": {},
   "outputs": [
    {
     "data": {
      "text/plain": [
       "TITLE         0\n",
       "CUISINES      0\n",
       "CITY         35\n",
       "LOCALITY     30\n",
       "RATING        2\n",
       "VOTES       402\n",
       "dtype: int64"
      ]
     },
     "execution_count": 1509,
     "metadata": {},
     "output_type": "execute_result"
    }
   ],
   "source": [
    "test.isnull().sum()"
   ]
  },
  {
   "cell_type": "code",
   "execution_count": 1510,
   "metadata": {},
   "outputs": [],
   "source": [
    "test.loc[(test['TITLE'] == 'None') & (test['CUISINES'].str.contains('Fast Food|Burger|Sandwich|Street Food') == True), 'TITLE'] = 'QUICK BITES'\n",
    "test.loc[(test['TITLE'] == 'None') & (test['CUISINES'] == 'Beverages'), 'TITLE'] = 'BEVERAGE SHOP'\n",
    "test.loc[(test['TITLE'] == 'None') & (test['CUISINES'] == 'Bakery'), 'TITLE'] = 'BAKERY'\n",
    "test.loc[test['TITLE'] == 'None', 'TITLE'] = 'UNKNOWN'"
   ]
  },
  {
   "cell_type": "code",
   "execution_count": 1511,
   "metadata": {},
   "outputs": [],
   "source": [
    "test['FOOD_PLACE'] = 0\n",
    "test['FOOD_PLACE'] =  test['TITLE'].apply(lambda x: 1 if x.find('FINE DINING') != -1 or\n",
    "                                            x.find('CASUAL DINING') != -1 or\n",
    "                                            x.find('FOOD COURT') != -1 or\n",
    "                                            x.find('FOOD TRUCK') != -1 or\n",
    "                                            x.find('QUICK BITES') != -1 or\n",
    "                                            x.find('DHABA') != -1 or\n",
    "                                            x.find('MESS') != -1 or\n",
    "                                            x.find('UNKNOWN') != -1\n",
    "                                            else 0\n",
    "                                           )\n",
    "\n",
    "test['PARTY_PLACE'] = 0\n",
    "test['PARTY_PLACE'] =  test['TITLE'].apply(lambda x: 1 if x.find('CLUB') != -1 or\n",
    "                                            x.find('PUB') != -1 or\n",
    "                                            x.find('LOUNGE') != -1\n",
    "                                            else 0\n",
    "                                           )\n",
    "\n",
    "test['DRINKS_PLACE'] = 0\n",
    "test['DRINKS_PLACE'] =  test['TITLE'].apply(lambda x: 1 if x.find('MICROBREWERY') != -1 or\n",
    "                                            x.find('COCKTAIL BAR') != -1 or\n",
    "                                            x.find('BAR') != -1\n",
    "                                            else 0\n",
    "                                           )\n",
    "\n",
    "test['IS_SHOP'] = 0\n",
    "test['IS_SHOP'] =  test['TITLE'].apply(lambda x: 1 if x.find('SHOP') != -1 else 0)\n",
    "\n",
    "test['BAKERY_CAFE'] = 0\n",
    "test['BAKERY_CAFE'] =  test['TITLE'].apply(lambda x: 1 if x.find('BAKERY') != -1 or\n",
    "                                            x.find('CAF') != -1 or\n",
    "                                            x.find('DESSERT') != -1 or\n",
    "                                            x.find('CONFECTION') != -1\n",
    "                                            else 0\n",
    "                                           )\n",
    "\n",
    "test['FOOD_DRINKS_PARTY'] = 999\n",
    "test['FOOD_DRINKS_PARTY'] = test['FOOD_PLACE'] + test['PARTY_PLACE'] + test['DRINKS_PLACE']\n",
    "\n",
    "test['DINING_RANK'] = 999\n",
    "test['DINING_RANK'] = test['TITLE'].apply(lambda x: 1 if x.find('FINE DINING') != -1 \n",
    "                                            else (2 if x.find('CASUAL DINING') != -1 \n",
    "                                            else (3 if x.find('FOOD COURT') != -1 \n",
    "                                            else (4 if x.find('QUICK BITES') != -1 \n",
    "                                            else (5 if x.find('FOOD TRUCK') != -1                                             \n",
    "                                            else (6 if x.find('DHABA') != -1\n",
    "                                            else (7 if x.find('MESS') != -1\n",
    "                                            else 999\n",
    "                                            )))))))"
   ]
  },
  {
   "cell_type": "code",
   "execution_count": 1512,
   "metadata": {},
   "outputs": [],
   "source": [
    "for cuisine in unique_cuisines:\n",
    "    new_col = 'CUISINE_' + cuisine\n",
    "    test[new_col] = 0\n",
    "    test[new_col] = test['CUISINES'].apply(lambda x: 0 if x.find(cuisine) == -1 else 1)\n",
    "\n",
    "test['CUISINE_MULTI'] = test['CUISINES'].apply(lambda x: 0 if x.find(',') == -1 else 1)"
   ]
  },
  {
   "cell_type": "code",
   "execution_count": 1513,
   "metadata": {},
   "outputs": [],
   "source": [
    "# Add a new column, 'IS_NEW' if the restaurant is new\n",
    "test['RATING'] = test['RATING'].fillna(rating_median)\n",
    "\n",
    "test['IS_NEW'] = 0\n",
    "test.loc[test['RATING'] == 'NEW', 'IS_NEW'] = 1\n",
    "test.loc[test['RATING'] == 'NEW', 'VOTES'] = 0\n",
    "\n",
    "test['NOT_RATED'] = 0\n",
    "test.loc[test['RATING'] == '-', 'NOT_RATED'] = 1\n",
    "test.loc[test['RATING'] == '-', 'VOTES'] = 0\n",
    "\n",
    "test['RATING'] = test['RATING'].apply(lambda x: rating_median if x == 'NEW' else x)\n",
    "test['RATING'] = test['RATING'].apply(lambda x: rating_median if x == '-' else x)\n",
    "\n",
    "test['RATING'] = test['RATING'].astype(float)\n",
    "\n",
    "#bins = [1, 2, 3, 4, 5, 999]\n",
    "#labels = ['RT_1_to_2', 'RT_2_to_3', 'RT_3_to_4', 'RT_4_to_5', 'RT_5_above']\n",
    "#percentiles = [0, .25, .5, .75, 1]\n",
    "#labels  = ['RT_1st_quart', 'RT_2nd_quart', 'RT_3rd_quart', 'RT_4th_quart']\n",
    "#test['RATING_BINNED'] = pd.qcut(test['RATING'], percentiles, labels=labels)\n",
    "\n",
    "#bins=[1, 1.5, 2, 2.5, 3, 3.5, 4, 4.5, 5]\n",
    "#labels = ['RT_1_1.5', 'RT_1.5_2', 'RT_2_2.5', 'RT_2.5_3', 'RT_3_3.5', 'RT_3.5_4', 'RT_4_4.5', 'RT_4.5_5']\n",
    "bins = [1, 2, 3, 4, 5]\n",
    "labels = ['RT_1_to_2', 'RT_2_to_3', 'RT_3_to_4', 'RT_4_to_5']\n",
    "test['RATING_BINNED'] = pd.cut(test['RATING'], bins=bins, labels=labels)"
   ]
  },
  {
   "cell_type": "code",
   "execution_count": 1514,
   "metadata": {},
   "outputs": [],
   "source": [
    "test['CITY'] = test['CITY'].str.replace('Bengaluru','Bangalore')\n",
    "test['CITY'] = test['CITY'].str.replace('Bengalore','Bangalore')\n",
    "test['CITY'] = test['CITY'].str.replace('India','Unknown')\n",
    "\n",
    "test['CITY'] = test['CITY'].fillna('Unknown')\n",
    "\n",
    "test['CITY'] = test['CITY'].astype(str)\n",
    "\n",
    "cities.remove('Other')\n",
    "\n",
    "test['CITY'] = test['CITY'].apply(lambda x: x if x in cities else 'Other')\n",
    "\n",
    "cities.append('Other')\n",
    "\n",
    "for city in cities:\n",
    "    new_col = 'CITY_' + city\n",
    "    test[new_col] = 0\n",
    "    test[new_col] = test['CITY'].apply(lambda x: 0 if x.find(city) == -1 else 1)\n",
    "\n",
    "test['IS_TIER_1'] = 0\n",
    "test['IS_TIER_1'] = test['CITY'].apply(lambda x: 1 if (x.find('Bangalore') != -1 or\n",
    "                                         x.find('Chennai') != -1 or\n",
    "                                         x.find('Delhi') != -1 or\n",
    "                                         x.find('Hyderabad') != -1 or\n",
    "                                         x.find('Mumbai') != -1 or\n",
    "                                         x.find('Kolkata') != -1)\n",
    "                                         else 0\n",
    "                                        )"
   ]
  },
  {
   "cell_type": "code",
   "execution_count": 1515,
   "metadata": {},
   "outputs": [],
   "source": [
    "test['LOCALITY'] = test['LOCALITY'].fillna('Unknown')\n",
    "\n",
    "test['LOCALITY'] = test['LOCALITY'].astype(str)\n",
    "\n",
    "localities.remove('Other')\n",
    "\n",
    "test['LOCALITY'] = test['LOCALITY'].apply(lambda x: x if x in localities else 'Other')\n",
    "\n",
    "localities.append('Other')\n",
    "\n",
    "for each in localities:\n",
    "    new_col = 'LOCALITY_' + each\n",
    "    test[new_col] = 0\n",
    "    test[new_col] = test['LOCALITY'].apply(lambda x: 0 if x.find(each) == -1 else 1)"
   ]
  },
  {
   "cell_type": "code",
   "execution_count": 1516,
   "metadata": {},
   "outputs": [],
   "source": [
    "test['VOTES'] = test['VOTES'].str.replace(' votes', '')\n",
    "test['VOTES'] = test['VOTES'].fillna(votes_median)\n",
    "test['VOTES'] = test['VOTES'].astype(int)\n",
    "\n",
    "# Binning VOTES column\n",
    "percentiles = [0, .25, .5, .75, 1]\n",
    "labels  = ['VOTES_1st_quart', 'VOTES_2nd_quart', 'VOTES_3rd_quart', 'VOTES_4th_quart']\n",
    "test['VOTES_BINNED'] = pd.qcut(test['VOTES'], percentiles, labels=labels)\n",
    "#bins = [1, 2000, 4000, 6000, 8000, 10000, 12000, 14000]\n",
    "#labels=['VT1', 'VT2', 'VT3', 'VT4', 'VT5', 'VT6', 'VT7']\n",
    "#test['VOTES_BINNED'] = pd.cut(test['VOTES'], bins=bins, labels=labels)"
   ]
  },
  {
   "cell_type": "code",
   "execution_count": 1517,
   "metadata": {},
   "outputs": [
    {
     "name": "stdout",
     "output_type": "stream",
     "text": [
      "Series([], dtype: float64)\n"
     ]
    }
   ],
   "source": [
    "missing_vals(test)"
   ]
  },
  {
   "cell_type": "code",
   "execution_count": 1518,
   "metadata": {},
   "outputs": [],
   "source": [
    "#test[test['RATING'].isnull()]"
   ]
  },
  {
   "cell_type": "code",
   "execution_count": 1519,
   "metadata": {},
   "outputs": [],
   "source": [
    "# Dummies\n",
    "X_dummies1 = pd.get_dummies(test['VOTES_BINNED'])\n",
    "X_dummies2 = pd.get_dummies(test['RATING_BINNED'])\n",
    "\n",
    "test = pd.concat([test,X_dummies1], axis=1)\n",
    "test = pd.concat([test,X_dummies2], axis=1)\n",
    "\n",
    "test.drop('TITLE', axis=1, inplace=True)\n",
    "test.drop('CUISINES', axis=1, inplace=True)\n",
    "test.drop('RATING', axis=1, inplace=True)\n",
    "test.drop('CITY', axis=1, inplace=True)\n",
    "test.drop('LOCALITY', axis=1, inplace=True)\n",
    "test.drop('VOTES', axis=1, inplace=True)\n",
    "test.drop(['VOTES_BINNED'], axis=1, inplace=True)\n",
    "test.drop(['RATING_BINNED'], axis=1, inplace=True)"
   ]
  },
  {
   "cell_type": "code",
   "execution_count": 1520,
   "metadata": {},
   "outputs": [],
   "source": [
    "predictions = gb.predict(test)"
   ]
  },
  {
   "cell_type": "code",
   "execution_count": 1521,
   "metadata": {},
   "outputs": [],
   "source": [
    "predictions_exp = [int(10**x) for x in predictions]"
   ]
  },
  {
   "cell_type": "code",
   "execution_count": 1522,
   "metadata": {},
   "outputs": [],
   "source": [
    "sub = pd.DataFrame()\n",
    "sub['COST'] = predictions_exp"
   ]
  },
  {
   "cell_type": "code",
   "execution_count": 1523,
   "metadata": {},
   "outputs": [
    {
     "data": {
      "text/html": [
       "<div>\n",
       "<style scoped>\n",
       "    .dataframe tbody tr th:only-of-type {\n",
       "        vertical-align: middle;\n",
       "    }\n",
       "\n",
       "    .dataframe tbody tr th {\n",
       "        vertical-align: top;\n",
       "    }\n",
       "\n",
       "    .dataframe thead th {\n",
       "        text-align: right;\n",
       "    }\n",
       "</style>\n",
       "<table border=\"1\" class=\"dataframe\">\n",
       "  <thead>\n",
       "    <tr style=\"text-align: right;\">\n",
       "      <th></th>\n",
       "      <th>COST</th>\n",
       "    </tr>\n",
       "  </thead>\n",
       "  <tbody>\n",
       "    <tr>\n",
       "      <th>0</th>\n",
       "      <td>1039</td>\n",
       "    </tr>\n",
       "    <tr>\n",
       "      <th>1</th>\n",
       "      <td>387</td>\n",
       "    </tr>\n",
       "    <tr>\n",
       "      <th>2</th>\n",
       "      <td>688</td>\n",
       "    </tr>\n",
       "    <tr>\n",
       "      <th>3</th>\n",
       "      <td>391</td>\n",
       "    </tr>\n",
       "    <tr>\n",
       "      <th>4</th>\n",
       "      <td>226</td>\n",
       "    </tr>\n",
       "  </tbody>\n",
       "</table>\n",
       "</div>"
      ],
      "text/plain": [
       "   COST\n",
       "0  1039\n",
       "1   387\n",
       "2   688\n",
       "3   391\n",
       "4   226"
      ]
     },
     "execution_count": 1523,
     "metadata": {},
     "output_type": "execute_result"
    }
   ],
   "source": [
    "sub.head()"
   ]
  },
  {
   "cell_type": "code",
   "execution_count": 1524,
   "metadata": {},
   "outputs": [],
   "source": [
    "sub.to_excel('../cost_predictions.xlsx',index=False, engine='xlsxwriter')"
   ]
  },
  {
   "cell_type": "code",
   "execution_count": null,
   "metadata": {},
   "outputs": [],
   "source": []
  }
 ],
 "metadata": {
  "kernelspec": {
   "display_name": "Python 3",
   "language": "python",
   "name": "python3"
  },
  "language_info": {
   "codemirror_mode": {
    "name": "ipython",
    "version": 3
   },
   "file_extension": ".py",
   "mimetype": "text/x-python",
   "name": "python",
   "nbconvert_exporter": "python",
   "pygments_lexer": "ipython3",
   "version": "3.6.0"
  }
 },
 "nbformat": 4,
 "nbformat_minor": 2
}
